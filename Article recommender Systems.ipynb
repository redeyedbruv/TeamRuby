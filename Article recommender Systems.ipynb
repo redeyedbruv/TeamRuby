{
  "nbformat": 4,
  "nbformat_minor": 0,
  "metadata": {
    "colab": {
      "name": "recommendation systems",
      "provenance": [],
      "collapsed_sections": [],
      "include_colab_link": true
    },
    "kernelspec": {
      "name": "python3",
      "display_name": "Python 3"
    },
    "accelerator": "GPU"
  },
  "cells": [
    {
      "cell_type": "markdown",
      "metadata": {
        "id": "view-in-github",
        "colab_type": "text"
      },
      "source": [
        "<a href=\"https://colab.research.google.com/github/abigailsleek/TeamRuby/blob/master/recommendation_systems.ipynb\" target=\"_parent\"><img src=\"https://colab.research.google.com/assets/colab-badge.svg\" alt=\"Open In Colab\"/></a>"
      ]
    },
    {
      "cell_type": "markdown",
      "metadata": {
        "id": "c9UGlkQDMltZ",
        "colab_type": "text"
      },
      "source": [
        "# section1"
      ]
    },
    {
      "cell_type": "markdown",
      "metadata": {
        "id": "slmTzYWUMtrz",
        "colab_type": "text"
      },
      "source": [
        "import all the required libraries\n"
      ]
    },
    {
      "cell_type": "code",
      "metadata": {
        "id": "OHeqH3Trpat6",
        "colab_type": "code",
        "colab": {}
      },
      "source": [
        "\n",
        "import pandas as pd\n",
        "import numpy as np\n",
        "import os\n",
        "import matplotlib.pyplot as plt\n",
        "%matplotlib inline\n",
        "\n",
        "import seaborn as sns\n",
        "from scipy import stats\n",
        "from ast import literal_eval\n",
        "\n",
        "from sklearn.feature_extraction.text import TfidfVectorizer, CountVectorizer\n",
        "from sklearn.metrics.pairwise import linear_kernel, cosine_similarity\n",
        "\n",
        "from nltk.stem.snowball import SnowballStemmer\n",
        "from nltk.stem.wordnet import WordNetLemmatizer\n",
        "from nltk.corpus import wordnet\n"
      ],
      "execution_count": 0,
      "outputs": []
    },
    {
      "cell_type": "code",
      "metadata": {
        "id": "dtSRF0PwHeSb",
        "colab_type": "code",
        "colab": {}
      },
      "source": [
        ""
      ],
      "execution_count": 0,
      "outputs": []
    },
    {
      "cell_type": "markdown",
      "metadata": {
        "id": "LfGTujwjHY7G",
        "colab_type": "text"
      },
      "source": [
        "next, load the data set to pandas data frame"
      ]
    },
    {
      "cell_type": "code",
      "metadata": {
        "id": "TBKC3YiqKZX4",
        "colab_type": "code",
        "outputId": "410ae548-79ee-4651-fd80-6069cb009d50",
        "colab": {
          "base_uri": "https://localhost:8080/",
          "height": 128
        }
      },
      "source": [
        "from google.colab import drive\n",
        "drive.mount('/content/drive')"
      ],
      "execution_count": 0,
      "outputs": [
        {
          "output_type": "stream",
          "text": [
            "Go to this URL in a browser: https://accounts.google.com/o/oauth2/auth?client_id=947318989803-6bn6qk8qdgf4n4g3pfee6491hc0brc4i.apps.googleusercontent.com&redirect_uri=urn%3Aietf%3Awg%3Aoauth%3A2.0%3Aoob&scope=email%20https%3A%2F%2Fwww.googleapis.com%2Fauth%2Fdocs.test%20https%3A%2F%2Fwww.googleapis.com%2Fauth%2Fdrive%20https%3A%2F%2Fwww.googleapis.com%2Fauth%2Fdrive.photos.readonly%20https%3A%2F%2Fwww.googleapis.com%2Fauth%2Fpeopleapi.readonly&response_type=code\n",
            "\n",
            "Enter your authorization code:\n",
            "··········\n",
            "Mounted at /content/drive\n"
          ],
          "name": "stdout"
        }
      ]
    },
    {
      "cell_type": "code",
      "metadata": {
        "id": "xKkzojNWHeOm",
        "colab_type": "code",
        "colab": {}
      },
      "source": [
        "posts = pd.read_csv('/content/drive/My Drive/Member/posts.csv')\n",
        "following =pd.read_csv('/content/drive/My Drive/Member/following.csv')\n",
        "thoughts = pd.read_csv('/content/drive/My Drive/Member/thoughts.csv')\n",
        "notifications = pd.read_csv('/content/drive/My Drive/Member/notifications.csv')\n",
        "extfeeds = pd.read_csv('/content/drive/My Drive/Member/extfeeds.csv')\n",
        "mailists = pd.read_csv('/content/drive/My Drive/Member/maillists.csv')\n",
        "migrations = pd.read_csv('/content/drive/My Drive/Member/migrations.csv')\n",
        "users = pd.read_csv('/content/drive/My Drive/Member/users.csv')\n",
        "contact_settings = pd.read_csv('/content/drive/My Drive/Member/contact_settings.csv')\n"
      ],
      "execution_count": 0,
      "outputs": []
    },
    {
      "cell_type": "code",
      "metadata": {
        "id": "lHX4eCyOHdwY",
        "colab_type": "code",
        "outputId": "b1020807-6bb1-4b5a-d029-b85c1199f1c3",
        "colab": {
          "base_uri": "https://localhost:8080/",
          "height": 326
        }
      },
      "source": [
        "posts.info()"
      ],
      "execution_count": 0,
      "outputs": [
        {
          "output_type": "stream",
          "text": [
            "<class 'pandas.core.frame.DataFrame'>\n",
            "RangeIndex: 876 entries, 0 to 875\n",
            "Data columns (total 12 columns):\n",
            "id            876 non-null int64\n",
            "user_id       876 non-null int64\n",
            "title         876 non-null object\n",
            "content       876 non-null object\n",
            "tags          182 non-null object\n",
            "slug          876 non-null object\n",
            "created_at    876 non-null object\n",
            "updated_at    876 non-null object\n",
            "image         400 non-null object\n",
            "status_id     0 non-null float64\n",
            "action        5 non-null object\n",
            "post_id       0 non-null float64\n",
            "dtypes: float64(2), int64(2), object(8)\n",
            "memory usage: 82.2+ KB\n"
          ],
          "name": "stdout"
        }
      ]
    },
    {
      "cell_type": "code",
      "metadata": {
        "id": "mSze6mjHMr_9",
        "colab_type": "code",
        "outputId": "2547927f-72cd-48b3-e728-686c40462df7",
        "colab": {
          "base_uri": "https://localhost:8080/",
          "height": 35
        }
      },
      "source": [
        "posts.shape"
      ],
      "execution_count": 0,
      "outputs": [
        {
          "output_type": "execute_result",
          "data": {
            "text/plain": [
              "(876, 12)"
            ]
          },
          "metadata": {
            "tags": []
          },
          "execution_count": 7
        }
      ]
    },
    {
      "cell_type": "code",
      "metadata": {
        "id": "OmfzgjrRgw8d",
        "colab_type": "code",
        "outputId": "47ad6053-30c1-44a7-9838-d3e152c91a83",
        "colab": {
          "base_uri": "https://localhost:8080/",
          "height": 423
        }
      },
      "source": [
        "posts.drop(['updated_at','image','action', 'created_at', 'status_id'], axis=1, inplace=True)\n",
        "posts.head()"
      ],
      "execution_count": 0,
      "outputs": [
        {
          "output_type": "execute_result",
          "data": {
            "text/html": [
              "<div>\n",
              "<style scoped>\n",
              "    .dataframe tbody tr th:only-of-type {\n",
              "        vertical-align: middle;\n",
              "    }\n",
              "\n",
              "    .dataframe tbody tr th {\n",
              "        vertical-align: top;\n",
              "    }\n",
              "\n",
              "    .dataframe thead th {\n",
              "        text-align: right;\n",
              "    }\n",
              "</style>\n",
              "<table border=\"1\" class=\"dataframe\">\n",
              "  <thead>\n",
              "    <tr style=\"text-align: right;\">\n",
              "      <th></th>\n",
              "      <th>id</th>\n",
              "      <th>user_id</th>\n",
              "      <th>title</th>\n",
              "      <th>content</th>\n",
              "      <th>tags</th>\n",
              "      <th>slug</th>\n",
              "      <th>post_id</th>\n",
              "    </tr>\n",
              "  </thead>\n",
              "  <tbody>\n",
              "    <tr>\n",
              "      <th>0</th>\n",
              "      <td>1</td>\n",
              "      <td>2077</td>\n",
              "      <td>What i have learnt so far on HTML</td>\n",
              "      <td>I learnt how to use the table tag as i have us...</td>\n",
              "      <td>NaN</td>\n",
              "      <td>what-i-have-learnt-so-far-on-html-985</td>\n",
              "      <td>NaN</td>\n",
              "    </tr>\n",
              "    <tr>\n",
              "      <th>1</th>\n",
              "      <td>2</td>\n",
              "      <td>1719</td>\n",
              "      <td>HTML BEGINS HERE</td>\n",
              "      <td>I am on this journey with start.ng, and here ...</td>\n",
              "      <td>Technology</td>\n",
              "      <td>html-begins-here-4d6</td>\n",
              "      <td>NaN</td>\n",
              "    </tr>\n",
              "    <tr>\n",
              "      <th>2</th>\n",
              "      <td>4</td>\n",
              "      <td>1310</td>\n",
              "      <td>My Laziness In The Open</td>\n",
              "      <td>I have not been attending classes on the HNG c...</td>\n",
              "      <td>NaN</td>\n",
              "      <td>my-laziness-in-the-open-029</td>\n",
              "      <td>NaN</td>\n",
              "    </tr>\n",
              "    <tr>\n",
              "      <th>3</th>\n",
              "      <td>6</td>\n",
              "      <td>1787</td>\n",
              "      <td>MY TASK 2</td>\n",
              "      <td>My journey on **StartNG** pre-internship progr...</td>\n",
              "      <td>NaN</td>\n",
              "      <td>my-task-2-649</td>\n",
              "      <td>NaN</td>\n",
              "    </tr>\n",
              "    <tr>\n",
              "      <th>4</th>\n",
              "      <td>7</td>\n",
              "      <td>167</td>\n",
              "      <td>Task 2</td>\n",
              "      <td>A Summary on The “idongesit.html” CV, Its Str...</td>\n",
              "      <td>NaN</td>\n",
              "      <td>task-2-7e5</td>\n",
              "      <td>NaN</td>\n",
              "    </tr>\n",
              "  </tbody>\n",
              "</table>\n",
              "</div>"
            ],
            "text/plain": [
              "   id  user_id  ...                                   slug post_id\n",
              "0   1     2077  ...  what-i-have-learnt-so-far-on-html-985     NaN\n",
              "1   2     1719  ...                   html-begins-here-4d6     NaN\n",
              "2   4     1310  ...            my-laziness-in-the-open-029     NaN\n",
              "3   6     1787  ...                          my-task-2-649     NaN\n",
              "4   7      167  ...                             task-2-7e5     NaN\n",
              "\n",
              "[5 rows x 7 columns]"
            ]
          },
          "metadata": {
            "tags": []
          },
          "execution_count": 10
        }
      ]
    },
    {
      "cell_type": "code",
      "metadata": {
        "id": "wVv6LzPTgw49",
        "colab_type": "code",
        "outputId": "e8ce4e0b-1a9a-4b8e-de89-e3f2c147184c",
        "colab": {
          "base_uri": "https://localhost:8080/",
          "height": 267
        }
      },
      "source": [
        "users.drop(['remember_token','created_at', 'updated_at','password','provider_id','image','provider','username'], axis=1, inplace=True)\n",
        "users.head()"
      ],
      "execution_count": 0,
      "outputs": [
        {
          "output_type": "execute_result",
          "data": {
            "text/html": [
              "<div>\n",
              "<style scoped>\n",
              "    .dataframe tbody tr th:only-of-type {\n",
              "        vertical-align: middle;\n",
              "    }\n",
              "\n",
              "    .dataframe tbody tr th {\n",
              "        vertical-align: top;\n",
              "    }\n",
              "\n",
              "    .dataframe thead th {\n",
              "        text-align: right;\n",
              "    }\n",
              "</style>\n",
              "<table border=\"1\" class=\"dataframe\">\n",
              "  <thead>\n",
              "    <tr style=\"text-align: right;\">\n",
              "      <th></th>\n",
              "      <th>id</th>\n",
              "      <th>name</th>\n",
              "      <th>email</th>\n",
              "      <th>short_bio</th>\n",
              "    </tr>\n",
              "  </thead>\n",
              "  <tbody>\n",
              "    <tr>\n",
              "      <th>0</th>\n",
              "      <td>1</td>\n",
              "      <td>Eniayomi Oluwaseyi</td>\n",
              "      <td>oluwaseyieniayomi@gmail.com</td>\n",
              "      <td>Software Developer | DevOPs Engineer</td>\n",
              "    </tr>\n",
              "    <tr>\n",
              "      <th>1</th>\n",
              "      <td>2</td>\n",
              "      <td>Elijah Okokon</td>\n",
              "      <td>okoelijah@gmail.com</td>\n",
              "      <td>Web Developer</td>\n",
              "    </tr>\n",
              "    <tr>\n",
              "      <th>2</th>\n",
              "      <td>3</td>\n",
              "      <td>Jeffrey Ogah</td>\n",
              "      <td>jeff.ogah@gmail.com</td>\n",
              "      <td>Front End Developer | React Developer | Mentor...</td>\n",
              "    </tr>\n",
              "    <tr>\n",
              "      <th>3</th>\n",
              "      <td>4</td>\n",
              "      <td>Oluwaseyi Oluwapelumi</td>\n",
              "      <td>nathanoluwaseyi@gmail.com</td>\n",
              "      <td>| Software Developer | DevOps Engineer | @linu...</td>\n",
              "    </tr>\n",
              "    <tr>\n",
              "      <th>4</th>\n",
              "      <td>5</td>\n",
              "      <td>PoRH</td>\n",
              "      <td>paulchibiukeigweze@gmail.com</td>\n",
              "      <td>I Am lamar and you don't think am real?</td>\n",
              "    </tr>\n",
              "  </tbody>\n",
              "</table>\n",
              "</div>"
            ],
            "text/plain": [
              "   id  ...                                          short_bio\n",
              "0   1  ...               Software Developer | DevOPs Engineer\n",
              "1   2  ...                                      Web Developer\n",
              "2   3  ...  Front End Developer | React Developer | Mentor...\n",
              "3   4  ...  | Software Developer | DevOps Engineer | @linu...\n",
              "4   5  ...            I Am lamar and you don't think am real?\n",
              "\n",
              "[5 rows x 4 columns]"
            ]
          },
          "metadata": {
            "tags": []
          },
          "execution_count": 32
        }
      ]
    },
    {
      "cell_type": "markdown",
      "metadata": {
        "id": "1L-2Yxxr1-gc",
        "colab_type": "text"
      },
      "source": [
        "so i want to clean out my posts data "
      ]
    },
    {
      "cell_type": "code",
      "metadata": {
        "id": "eI5U9UQfpauE",
        "colab_type": "code",
        "outputId": "8bdd6463-0fbc-4cea-9633-888d1c04ebea",
        "colab": {
          "base_uri": "https://localhost:8080/",
          "height": 126
        }
      },
      "source": [
        "\n",
        "posts['content'] = posts['content'].str.replace(r'<[^>]*>', '')\n",
        "posts['content'] = posts['content'].str.replace(r'\\s', ' ')\n",
        "posts['content'] = posts['content'].str.replace(r'\\\\', ' ')\n",
        "posts['content'] = posts['content'].str.replace(r'\\~', ' ')\n",
        "posts['content'] = posts['content'].str.replace(r'\\[.*?\\]', '')\n",
        "posts['content'] = posts['content'].str.replace(r'\\(.*?\\)', '')\n",
        "posts['content'].head()"
      ],
      "execution_count": 0,
      "outputs": [
        {
          "output_type": "execute_result",
          "data": {
            "text/plain": [
              "0    I learnt how to use the table tag as i have us...\n",
              "1     I am on this journey with start.ng, and here ...\n",
              "2    I have not been attending classes on the HNG c...\n",
              "3    My journey on **StartNG** pre-internship progr...\n",
              "4     A Summary on The “idongesit.html” CV, Its Str...\n",
              "Name: content, dtype: object"
            ]
          },
          "metadata": {
            "tags": []
          },
          "execution_count": 16
        }
      ]
    },
    {
      "cell_type": "code",
      "metadata": {
        "id": "jBv13FBVgw2N",
        "colab_type": "code",
        "colab": {}
      },
      "source": [
        ""
      ],
      "execution_count": 0,
      "outputs": []
    },
    {
      "cell_type": "markdown",
      "metadata": {
        "id": "XL_g1TMcBP8m",
        "colab_type": "text"
      },
      "source": [
        "#Section 2"
      ]
    },
    {
      "cell_type": "markdown",
      "metadata": {
        "id": "q72G7KEh8G_B",
        "colab_type": "text"
      },
      "source": [
        "so i'm going to be applying some algorithms "
      ]
    },
    {
      "cell_type": "code",
      "metadata": {
        "id": "o7ym3fS6pauG",
        "colab_type": "code",
        "outputId": "afb41c35-9c38-4710-8bad-e2d1f05bf688",
        "colab": {
          "base_uri": "https://localhost:8080/",
          "height": 35
        }
      },
      "source": [
        "\n",
        "tfidf_mypost = TfidfVectorizer(stop_words='english')\n",
        "\n",
        "posts['content'] = posts['content'].fillna('')\n",
        "\n",
        "tfidf_mypost_mat = tfidf_mypost.fit_transform(posts['content'])\n",
        "\n",
        "tfidf_mypost_mat.shape"
      ],
      "execution_count": 0,
      "outputs": [
        {
          "output_type": "execute_result",
          "data": {
            "text/plain": [
              "(876, 4597)"
            ]
          },
          "metadata": {
            "tags": []
          },
          "execution_count": 19
        }
      ]
    },
    {
      "cell_type": "code",
      "metadata": {
        "id": "WBR9ICAjgwy0",
        "colab_type": "code",
        "colab": {}
      },
      "source": [
        ""
      ],
      "execution_count": 0,
      "outputs": []
    },
    {
      "cell_type": "code",
      "metadata": {
        "id": "6TiJcotspauJ",
        "colab_type": "code",
        "colab": {}
      },
      "source": [
        "\n",
        "cos_sim = linear_kernel(tfidf_mypost_matrix, tfidf_mypost_matrix)\n"
      ],
      "execution_count": 0,
      "outputs": []
    },
    {
      "cell_type": "code",
      "metadata": {
        "id": "9t8__57apauL",
        "colab_type": "code",
        "colab": {}
      },
      "source": [
        "\n",
        "indices = pd.Series(posts.index, index=posts['title']).drop_duplicates()"
      ],
      "execution_count": 0,
      "outputs": []
    },
    {
      "cell_type": "code",
      "metadata": {
        "id": "4XUugH6hgwwb",
        "colab_type": "code",
        "colab": {}
      },
      "source": [
        ""
      ],
      "execution_count": 0,
      "outputs": []
    },
    {
      "cell_type": "markdown",
      "metadata": {
        "id": "3Lt04jcoDZ9y",
        "colab_type": "text"
      },
      "source": [
        "i'm going to define a function that gets posts by title."
      ]
    },
    {
      "cell_type": "code",
      "metadata": {
        "id": "20Es45QPpauN",
        "colab_type": "code",
        "colab": {}
      },
      "source": [
        "\n",
        "def get_recommended_posts(title, cos_sim=cos_sim):\n",
        "    idx = indices[title]\n",
        "    sim_scores = list(enumerate(cos_sim[idx]))\n",
        "    sim_scores = sorted(sim_scores, key=lambda x: x[1], reverse=True)\n",
        "    sim_scores = sim_scores[1:11]\n",
        "    post_indices = [i[0] for i in sim_scores]\n",
        "    return posts['title'].iloc[post_indices]"
      ],
      "execution_count": 0,
      "outputs": []
    },
    {
      "cell_type": "code",
      "metadata": {
        "id": "ePh-smO0gwuU",
        "colab_type": "code",
        "outputId": "99ab3b61-8aa8-44c6-80ee-47ce066972a5",
        "colab": {
          "base_uri": "https://localhost:8080/",
          "height": 217
        }
      },
      "source": [
        "get_recommended_posts('HTML BEGINS HERE')"
      ],
      "execution_count": 0,
      "outputs": [
        {
          "output_type": "execute_result",
          "data": {
            "text/plain": [
              "99                     Introduction To HTML\n",
              "43         HTML Course so far on startdotng\n",
              "487                  First Class About HTML\n",
              "6                   StartNG HTML Exposition\n",
              "26                       The Journey so far\n",
              "646    How To Create A simple CV Using HTML\n",
              "647    How To Create A simple CV Using HTML\n",
              "92                               Hello HTML\n",
              "396                  What I've done so far.\n",
              "397                  What I've done so far.\n",
              "Name: title, dtype: object"
            ]
          },
          "metadata": {
            "tags": []
          },
          "execution_count": 25
        }
      ]
    },
    {
      "cell_type": "code",
      "metadata": {
        "id": "zO89a1eJgv83",
        "colab_type": "code",
        "colab": {}
      },
      "source": [
        ""
      ],
      "execution_count": 0,
      "outputs": []
    },
    {
      "cell_type": "markdown",
      "metadata": {
        "id": "7D2gWsGAIWE6",
        "colab_type": "text"
      },
      "source": [
        "you could test this similarity post recommender by running :"
      ]
    },
    {
      "cell_type": "code",
      "metadata": {
        "id": "TfVK9u-CIfE5",
        "colab_type": "code",
        "colab": {}
      },
      "source": [
        "get_recommended_posts('input the post title here please')"
      ],
      "execution_count": 0,
      "outputs": []
    },
    {
      "cell_type": "code",
      "metadata": {
        "id": "QSRrlhVbIvR3",
        "colab_type": "code",
        "colab": {}
      },
      "source": [
        ""
      ],
      "execution_count": 0,
      "outputs": []
    },
    {
      "cell_type": "markdown",
      "metadata": {
        "id": "Gn6aEEurI2_G",
        "colab_type": "text"
      },
      "source": [
        "so i'm going to be doing something similar for \"who to follow\""
      ]
    },
    {
      "cell_type": "code",
      "metadata": {
        "id": "INBq3RbhIvmG",
        "colab_type": "code",
        "outputId": "e9320237-e520-4f3c-c94e-194de9c78ae6",
        "colab": {
          "base_uri": "https://localhost:8080/",
          "height": 217
        }
      },
      "source": [
        "users['short_bio'].head(10)"
      ],
      "execution_count": 0,
      "outputs": [
        {
          "output_type": "execute_result",
          "data": {
            "text/plain": [
              "0                 Software Developer | DevOPs Engineer\n",
              "1                                        Web Developer\n",
              "2    Front End Developer | React Developer | Mentor...\n",
              "3    | Software Developer | DevOps Engineer | @linu...\n",
              "4              I Am lamar and you don't think am real?\n",
              "5                                        My Open Diary\n",
              "6                                          An engineer\n",
              "7    Software Developer hotelsng, Ex. Frontend deve...\n",
              "8    Front-end Engineer 💻 | FIFA advocate 🎮 |  Ninja 🥋\n",
              "9                                                 Here\n",
              "Name: short_bio, dtype: object"
            ]
          },
          "metadata": {
            "tags": []
          },
          "execution_count": 38
        }
      ]
    },
    {
      "cell_type": "markdown",
      "metadata": {
        "id": "CetbNGG1KhK6",
        "colab_type": "text"
      },
      "source": [
        "applying the same algorithm as before:"
      ]
    },
    {
      "cell_type": "code",
      "metadata": {
        "id": "WPSH-vJVpaua",
        "colab_type": "code",
        "outputId": "19ba29f0-f209-4ed0-da9a-ec25432d0bc2",
        "colab": {
          "base_uri": "https://localhost:8080/",
          "height": 35
        }
      },
      "source": [
        "\n",
        "tfidf_myusers = TfidfVectorizer(stop_words='english')\n",
        "\n",
        "users['short_bio'] = users['short_bio'].fillna('')\n",
        "\n",
        "tfidf_myusers_mat = tfidf_myusers.fit_transform(users['short_bio'])\n",
        "\n",
        "tfidf_myusers_mat.shape"
      ],
      "execution_count": 0,
      "outputs": [
        {
          "output_type": "execute_result",
          "data": {
            "text/plain": [
              "(2293, 2242)"
            ]
          },
          "metadata": {
            "tags": []
          },
          "execution_count": 36
        }
      ]
    },
    {
      "cell_type": "code",
      "metadata": {
        "id": "qL9AigYEpauc",
        "colab_type": "code",
        "colab": {}
      },
      "source": [
        "\n",
        "cos_sim = linear_kernel(tfidf_myusers_mat, tfidf_myusers_mat, True)\n",
        "\n",
        "indices = pd.Series(users.index, index=users['id'])"
      ],
      "execution_count": 0,
      "outputs": []
    },
    {
      "cell_type": "code",
      "metadata": {
        "id": "Ojg2kYd3Keop",
        "colab_type": "code",
        "colab": {}
      },
      "source": [
        ""
      ],
      "execution_count": 0,
      "outputs": []
    },
    {
      "cell_type": "markdown",
      "metadata": {
        "id": "SSOWr_7KQQ8U",
        "colab_type": "text"
      },
      "source": [
        "so i  want to create a function that basically transforms data it will get from my get_new_followers, into a new database"
      ]
    },
    {
      "cell_type": "code",
      "metadata": {
        "id": "r2nQy9tgpaue",
        "colab_type": "code",
        "colab": {}
      },
      "source": [
        "def create_my_new_db(x):\n",
        "\n",
        "    y = x.copy()\n",
        "    z = x.copy()\n",
        "    y.update(users['name'])\n",
        "    z.update(users['short_bio'])\n",
        "    xdf=pd.DataFrame(x)\n",
        "    ydf=pd.DataFrame(y)\n",
        "    zdf=pd.DataFrame(z)\n",
        "    ydf.rename(columns={'id':'Name'}, inplace=True)\n",
        "    xdf.rename(columns={'id':'User_Id'}, inplace=True)\n",
        "    zdf.rename(columns={'id':'short_bio'}, inplace=True)\n",
        "    frames = [xdf,ydf,zdf]\n",
        "    new_df = pd.concat(frames, axis=1)\n",
        "    new_df.set_index('User_Id', inplace=True)\n",
        "    return new_df"
      ],
      "execution_count": 0,
      "outputs": []
    },
    {
      "cell_type": "markdown",
      "metadata": {
        "id": "Uw9vej_bPN03",
        "colab_type": "text"
      },
      "source": [
        "i'm going to just define a function that gets new followers  based on their id."
      ]
    },
    {
      "cell_type": "code",
      "metadata": {
        "id": "SGnBqq5eKetq",
        "colab_type": "code",
        "colab": {}
      },
      "source": [
        ""
      ],
      "execution_count": 0,
      "outputs": []
    },
    {
      "cell_type": "code",
      "metadata": {
        "id": "TU764NIopaug",
        "colab_type": "code",
        "colab": {}
      },
      "source": [
        "\n",
        "def get_new_followers(id, cos_sim=cos_sim):\n",
        "    idx = indices[id]\n",
        "    sim_scores = list(enumerate(cos_sim[idx]))\n",
        "    sim_scores = sorted(sim_scores, key=lambda x: x[1], reverse=True)\n",
        "    sim_scores = sim_scores[1:11]\n",
        "    follow_indices = [i[0] for i in sim_scores]\n",
        "    follower_id = users['id'].iloc[follow_indices]\n",
        "     \n",
        "    new_record = create_my_new_db(follower_id)\n",
        "    return new_record"
      ],
      "execution_count": 0,
      "outputs": []
    },
    {
      "cell_type": "markdown",
      "metadata": {
        "id": "xZ9RHsJCQvO2",
        "colab_type": "text"
      },
      "source": [
        "so i'm going to create a function just for viewing my user via id"
      ]
    },
    {
      "cell_type": "code",
      "metadata": {
        "id": "s6n0LPp8paui",
        "colab_type": "code",
        "colab": {}
      },
      "source": [
        "\n",
        "def view_user(id):\n",
        "    name = users.loc[users['id'] == id, 'name']\n",
        "    bio = users.loc[users['id'] == id, 'short_bio']\n",
        "    return name.iloc[0], bio.iloc[0]"
      ],
      "execution_count": 0,
      "outputs": []
    },
    {
      "cell_type": "code",
      "metadata": {
        "id": "bQWXsySbKe4-",
        "colab_type": "code",
        "outputId": "afe2af8e-48ef-43f1-84e1-d1661b2b38c5",
        "colab": {
          "base_uri": "https://localhost:8080/",
          "height": 35
        }
      },
      "source": [
        "view_user(66)"
      ],
      "execution_count": 0,
      "outputs": [
        {
          "output_type": "execute_result",
          "data": {
            "text/plain": [
              "('Kev Chike', 'Web Developer')"
            ]
          },
          "metadata": {
            "tags": []
          },
          "execution_count": 50
        }
      ]
    },
    {
      "cell_type": "code",
      "metadata": {
        "id": "ZpUQ-nj8paur",
        "colab_type": "code",
        "outputId": "adfd5ea5-2322-4382-a71b-0fc17e3988ab",
        "colab": {
          "base_uri": "https://localhost:8080/",
          "height": 35
        }
      },
      "source": [
        "users.loc[users['id'] == 66, 'short_bio'].iloc[0]"
      ],
      "execution_count": 0,
      "outputs": [
        {
          "output_type": "execute_result",
          "data": {
            "text/plain": [
              "'Web Developer'"
            ]
          },
          "metadata": {
            "tags": []
          },
          "execution_count": 52
        }
      ]
    },
    {
      "cell_type": "markdown",
      "metadata": {
        "id": "w9UCAFTqRa4f",
        "colab_type": "text"
      },
      "source": [
        "#  Section 3"
      ]
    },
    {
      "cell_type": "markdown",
      "metadata": {
        "id": "xYn-1oLERhTI",
        "colab_type": "text"
      },
      "source": [
        "using the KNN alogrithm"
      ]
    },
    {
      "cell_type": "code",
      "metadata": {
        "id": "Qb2QdAhtRCpi",
        "colab_type": "code",
        "colab": {}
      },
      "source": [
        ""
      ],
      "execution_count": 0,
      "outputs": []
    }
  ]
}
